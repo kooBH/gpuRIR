{
 "cells": [
  {
   "cell_type": "code",
   "execution_count": 1,
   "id": "bcd7591c-8d87-4fbf-9fa7-1619b780ae50",
   "metadata": {},
   "outputs": [],
   "source": [
    "import numpy as np"
   ]
  },
  {
   "cell_type": "code",
   "execution_count": 6,
   "id": "81a0ea3f-a9d2-41c0-9166-a1e40ee0587f",
   "metadata": {},
   "outputs": [
    {
     "name": "stdout",
     "output_type": "stream",
     "text": [
      "(4, 23)\n",
      "(4, 23)\n"
     ]
    }
   ],
   "source": [
    "a = np.ones((4,23))\n",
    "b = np.ones((4,23))\n",
    "print(a.shape)\n",
    "print(b.shape)"
   ]
  },
  {
   "cell_type": "code",
   "execution_count": 11,
   "id": "1e79a879-54d4-42b0-8ec6-f706864c9e11",
   "metadata": {},
   "outputs": [
    {
     "name": "stdout",
     "output_type": "stream",
     "text": [
      "(4,)\n"
     ]
    }
   ],
   "source": [
    "aa = aa/np.max(np.abs(aa))\n",
    "print(aa.shape)"
   ]
  },
  {
   "cell_type": "code",
   "execution_count": 12,
   "id": "45c37c17-8455-4b49-bdbd-f204936d28a9",
   "metadata": {},
   "outputs": [
    {
     "name": "stdout",
     "output_type": "stream",
     "text": [
      "(4,)\n"
     ]
    }
   ],
   "source": [
    "aa = np.sum(np.power(a,2),axis=1)\n",
    "print(aa.shape)"
   ]
  },
  {
   "cell_type": "code",
   "execution_count": 13,
   "id": "918863a3-6b42-40ad-801f-d630f3e86902",
   "metadata": {},
   "outputs": [
    {
     "name": "stdout",
     "output_type": "stream",
     "text": [
      "(4, 23)\n"
     ]
    }
   ],
   "source": [
    "aa = a* 4\n",
    "print(aa.shape)"
   ]
  },
  {
   "cell_type": "code",
   "execution_count": 15,
   "id": "e7745684-67c0-401e-9e33-dea476f3625f",
   "metadata": {},
   "outputs": [
    {
     "data": {
      "text/plain": [
       "[array([[1., 1., 1., 1., 1., 1., 1., 1., 1., 1., 1., 1., 1., 1., 1., 1.,\n",
       "         1., 1., 1., 1., 1., 1., 1.],\n",
       "        [1., 1., 1., 1., 1., 1., 1., 1., 1., 1., 1., 1., 1., 1., 1., 1.,\n",
       "         1., 1., 1., 1., 1., 1., 1.],\n",
       "        [1., 1., 1., 1., 1., 1., 1., 1., 1., 1., 1., 1., 1., 1., 1., 1.,\n",
       "         1., 1., 1., 1., 1., 1., 1.],\n",
       "        [1., 1., 1., 1., 1., 1., 1., 1., 1., 1., 1., 1., 1., 1., 1., 1.,\n",
       "         1., 1., 1., 1., 1., 1., 1.]]),\n",
       " array([[1., 1., 1., 1., 1., 1., 1., 1., 1., 1., 1., 1., 1., 1., 1., 1.,\n",
       "         1., 1., 1., 1., 1., 1., 1.],\n",
       "        [1., 1., 1., 1., 1., 1., 1., 1., 1., 1., 1., 1., 1., 1., 1., 1.,\n",
       "         1., 1., 1., 1., 1., 1., 1.],\n",
       "        [1., 1., 1., 1., 1., 1., 1., 1., 1., 1., 1., 1., 1., 1., 1., 1.,\n",
       "         1., 1., 1., 1., 1., 1., 1.],\n",
       "        [1., 1., 1., 1., 1., 1., 1., 1., 1., 1., 1., 1., 1., 1., 1., 1.,\n",
       "         1., 1., 1., 1., 1., 1., 1.]])]"
      ]
     },
     "execution_count": 15,
     "metadata": {},
     "output_type": "execute_result"
    }
   ],
   "source": [
    "x = []\n",
    "x.append(a)\n",
    "x.append(b)\n",
    "x"
   ]
  },
  {
   "cell_type": "code",
   "execution_count": 20,
   "id": "25a718f5-a5bf-4253-9ecb-93f0114a2635",
   "metadata": {},
   "outputs": [
    {
     "name": "stdout",
     "output_type": "stream",
     "text": [
      "(4, 23)\n",
      "[[2. 2. 2. 2. 2. 2. 2. 2. 2. 2. 2. 2. 2. 2. 2. 2. 2. 2. 2. 2. 2. 2. 2.]\n",
      " [2. 2. 2. 2. 2. 2. 2. 2. 2. 2. 2. 2. 2. 2. 2. 2. 2. 2. 2. 2. 2. 2. 2.]\n",
      " [2. 2. 2. 2. 2. 2. 2. 2. 2. 2. 2. 2. 2. 2. 2. 2. 2. 2. 2. 2. 2. 2. 2.]\n",
      " [2. 2. 2. 2. 2. 2. 2. 2. 2. 2. 2. 2. 2. 2. 2. 2. 2. 2. 2. 2. 2. 2. 2.]]\n"
     ]
    }
   ],
   "source": [
    "xx = np.sum(x,axis=0)\n",
    "print(xx.shape)\n",
    "print(xx)"
   ]
  },
  {
   "cell_type": "markdown",
   "id": "4bd2b9d0-aa7f-4fe9-812e-8163f0fce0ab",
   "metadata": {},
   "source": [
    "## Dim Adjust"
   ]
  },
  {
   "cell_type": "code",
   "execution_count": 21,
   "id": "9bea6d84-7a13-44e3-b0ec-09499d9e8d45",
   "metadata": {},
   "outputs": [],
   "source": [
    "len_target = 10"
   ]
  },
  {
   "cell_type": "code",
   "execution_count": 39,
   "id": "2e01a771-dffd-4c7c-b39e-db7e739d624f",
   "metadata": {},
   "outputs": [],
   "source": [
    "short = np.random.rand(4,3)\n",
    "over  = np.random.rand(11,2)\n",
    "fit   = np.random.rand(10,4)"
   ]
  },
  {
   "cell_type": "code",
   "execution_count": 40,
   "id": "732d305c-07ca-4301-98fe-e33526e301c7",
   "metadata": {},
   "outputs": [],
   "source": [
    "def adjust(x):\n",
    "    if len(x) < len_target :\n",
    "        short = len_target - len(x)\n",
    "        x = np.pad(x,((0,short),(0,0)))\n",
    "    elif len(x) > len_target :\n",
    "        over = len(x) - len_target\n",
    "        x = x[:-over]\n",
    "    else :\n",
    "        pass\n",
    "    return x"
   ]
  },
  {
   "cell_type": "code",
   "execution_count": 41,
   "id": "43ce2d71-a671-4395-8f26-5f3582bcf8bd",
   "metadata": {},
   "outputs": [
    {
     "name": "stdout",
     "output_type": "stream",
     "text": [
      "(10, 3)\n",
      "(10, 2)\n",
      "(10, 4)\n"
     ]
    }
   ],
   "source": [
    "o = adjust(short)\n",
    "oo = adjust(over)\n",
    "ooo = adjust(fit)\n",
    "print(o.shape)\n",
    "print(oo.shape)\n",
    "print(ooo.shape)\n"
   ]
  },
  {
   "cell_type": "code",
   "execution_count": null,
   "id": "fdaee9b7-7496-4aa2-998d-96e2f849bd0d",
   "metadata": {},
   "outputs": [],
   "source": []
  }
 ],
 "metadata": {
  "kernelspec": {
   "display_name": "Python 3 (ipykernel)",
   "language": "python",
   "name": "python3"
  },
  "language_info": {
   "codemirror_mode": {
    "name": "ipython",
    "version": 3
   },
   "file_extension": ".py",
   "mimetype": "text/x-python",
   "name": "python",
   "nbconvert_exporter": "python",
   "pygments_lexer": "ipython3",
   "version": "3.9.6"
  }
 },
 "nbformat": 4,
 "nbformat_minor": 5
}
