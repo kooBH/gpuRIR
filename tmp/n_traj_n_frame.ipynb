{
 "cells": [
  {
   "cell_type": "code",
   "execution_count": 59,
   "id": "98ff3442-e78a-46eb-b476-81c2a3d244a6",
   "metadata": {},
   "outputs": [],
   "source": [
    "import numpy as np"
   ]
  },
  {
   "cell_type": "code",
   "execution_count": 60,
   "id": "3ef165f5-295b-492c-b497-1b41ff3a4adf",
   "metadata": {},
   "outputs": [],
   "source": [
    "n_traj = 3;\n",
    "n_frame = 11;"
   ]
  },
  {
   "cell_type": "code",
   "execution_count": 61,
   "id": "c6897a6a-f711-4f2c-a7ba-fb8d409625c0",
   "metadata": {},
   "outputs": [
    {
     "name": "stdout",
     "output_type": "stream",
     "text": [
      "[6 7 8]\n",
      "3.6666666666666665\n",
      "3\n",
      "0\n",
      "4\n",
      "8\n",
      "[6. 6. 6. 6. 7. 7. 7. 7. 8. 8. 8.]\n"
     ]
    }
   ],
   "source": [
    "traj = np.random.randint(low=0,high=10,size=n_traj)\n",
    "print(traj)\n",
    "\n",
    "ratio = n_frame/n_traj\n",
    "print(ratio)\n",
    "\n",
    "traj_adj = np.zeros(n_frame)\n",
    "\n",
    "ratio = int(ratio)\n",
    "print(ratio)\n",
    "n_req_pad = n_frame - ratio*n_traj\n",
    "\n",
    "# pre-padding\n",
    "idx=0\n",
    "for i in range(n_traj) : \n",
    "    print(idx)\n",
    "    if i < n_req_pad : \n",
    "        len_rep = ratio +1\n",
    "    else :\n",
    "        len_rep = ratio\n",
    "\n",
    "    traj_adj[idx:idx+len_rep]=traj[i]\n",
    "    idx+=len_rep\n",
    "print(traj_adj)"
   ]
  },
  {
   "cell_type": "code",
   "execution_count": 62,
   "id": "eea489b4-da2b-43b9-86f1-2f3ec5dcf8bd",
   "metadata": {},
   "outputs": [
    {
     "name": "stdout",
     "output_type": "stream",
     "text": [
      "(9,)\n",
      "[6 6 6 7 7 7 8 8 8]\n"
     ]
    }
   ],
   "source": [
    "traj2 = np.repeat(traj,ratio)\n",
    "print(traj2.shape)\n",
    "print(traj2)"
   ]
  },
  {
   "cell_type": "code",
   "execution_count": 63,
   "id": "7c2bd47f-40cc-46c7-8ca2-0d15868d2d99",
   "metadata": {},
   "outputs": [
    {
     "name": "stdout",
     "output_type": "stream",
     "text": [
      "(6, 7, 8)\n"
     ]
    }
   ],
   "source": [
    "traj3 = np.full(traj,(n_frame))\n",
    "print(traj3.shape)"
   ]
  },
  {
   "cell_type": "markdown",
   "id": "f3e6a5e3-6ebb-4cb7-b42e-67615cf56aa0",
   "metadata": {},
   "source": [
    "## traj with pos"
   ]
  },
  {
   "cell_type": "code",
   "execution_count": 87,
   "id": "2279447f-bf13-4f34-89c1-477086337404",
   "metadata": {},
   "outputs": [
    {
     "name": "stdout",
     "output_type": "stream",
     "text": [
      "(3, 2)\n",
      "[[0.151969   0.0944871 ]\n",
      " [0.6283427  0.50171377]\n",
      " [0.9952515  0.10394967]]\n",
      "(2, 3, 2)\n",
      "[[[0.151969   0.0944871 ]\n",
      "  [0.6283427  0.50171377]\n",
      "  [0.9952515  0.10394967]]\n",
      "\n",
      " [[0.151969   0.0944871 ]\n",
      "  [0.6283427  0.50171377]\n",
      "  [0.9952515  0.10394967]]]\n",
      "(2, 2)\n",
      "(2, 1, 2)\n",
      "(2, 3, 2)\n",
      "[[[ 10.151969    10.0944871 ]\n",
      "  [ 10.6283427   10.50171377]\n",
      "  [ 10.9952515   10.10394967]]\n",
      "\n",
      " [[100.151969   100.0944871 ]\n",
      "  [100.6283427  100.50171377]\n",
      "  [100.9952515  100.10394967]]]\n"
     ]
    }
   ],
   "source": [
    "traj = np.random.rand(3,2)\n",
    "print(traj.shape)\n",
    "print(traj)\n",
    "\n",
    "traj = np.tile(traj,(2,1,1))\n",
    "print(traj.shape)\n",
    "print(traj)\n",
    "\n",
    "pos = np.zeros((2,2))\n",
    "print(pos.shape)\n",
    "pos = np.expand_dims(pos,1)\n",
    "print(pos.shape)\n",
    "pos[0,:,:] = 10\n",
    "pos[1,:,:] = 100\n",
    "\n",
    "traj = traj+ pos\n",
    "\n",
    "print(traj.shape)\n",
    "print(traj)"
   ]
  },
  {
   "cell_type": "code",
   "execution_count": null,
   "id": "ff9191d8-ae50-4afa-908c-826c021656ed",
   "metadata": {},
   "outputs": [],
   "source": [
    "pos = []"
   ]
  }
 ],
 "metadata": {
  "kernelspec": {
   "display_name": "Python 3 (ipykernel)",
   "language": "python",
   "name": "python3"
  },
  "language_info": {
   "codemirror_mode": {
    "name": "ipython",
    "version": 3
   },
   "file_extension": ".py",
   "mimetype": "text/x-python",
   "name": "python",
   "nbconvert_exporter": "python",
   "pygments_lexer": "ipython3",
   "version": "3.9.6"
  }
 },
 "nbformat": 4,
 "nbformat_minor": 5
}
