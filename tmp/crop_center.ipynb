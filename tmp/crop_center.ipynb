{
 "cells": [
  {
   "cell_type": "code",
   "execution_count": 18,
   "id": "5287b62d-a15c-40f8-a420-f0ba3142ecae",
   "metadata": {},
   "outputs": [
    {
     "name": "stdout",
     "output_type": "stream",
     "text": [
      "[1, 2, 3, 4, 5, 6, 7]\n",
      "[10, 20, 30, 40, 50, 60]\n",
      "[100, 200, 300]\n",
      "[[1, 2, 3, 4, 5, 6, 7], [10, 20, 30, 40, 50, 60], [100, 200, 300]]\n"
     ]
    }
   ],
   "source": [
    "x = [1, 2, 3, 4, 5,6,7]\n",
    "y = [10,20,30,40,50,60]\n",
    "z = [100,200,300]\n",
    "arr = [x,y,z]\n",
    "print(x)\n",
    "print(y)\n",
    "print(z)\n",
    "print(arr)"
   ]
  },
  {
   "cell_type": "code",
   "execution_count": 19,
   "id": "5d132643-7c79-4c8e-bb6b-712f9588f9ef",
   "metadata": {},
   "outputs": [
    {
     "name": "stdout",
     "output_type": "stream",
     "text": [
      "3\n"
     ]
    }
   ],
   "source": [
    "len_min  = 1e16\n",
    "for t in arr : \n",
    "    if len_min > len(t):\n",
    "        len_min = len(t)\n",
    "print(len_min)"
   ]
  },
  {
   "cell_type": "markdown",
   "id": "264ecd5b-e8ef-47e7-a0ea-1e3fc1a8d0e2",
   "metadata": {},
   "source": [
    "7\n",
    "6\n",
    "3\n",
    "\n",
    "3\n",
    "\n",
    "2 3 4 \n",
    "1 2 3 or 2 3 4\n",
    "0 1 2"
   ]
  },
  {
   "cell_type": "code",
   "execution_count": 21,
   "id": "d34f8f53-682b-43e8-9141-c26e97da851e",
   "metadata": {},
   "outputs": [
    {
     "name": "stdout",
     "output_type": "stream",
     "text": [
      "2\n",
      "1\n",
      "0\n",
      "[[3, 4, 5], [20, 30, 40], [100, 200, 300]]\n"
     ]
    }
   ],
   "source": [
    "arr2 = []\n",
    "for t in arr :\n",
    "    idx_start = int(len(t)/2 - len_min/2 )\n",
    "    print(idx_start)\n",
    "    t2 = t[idx_start:idx_start+len_min]\n",
    "    arr2.append(t2)\n",
    "print(arr2)"
   ]
  },
  {
   "cell_type": "code",
   "execution_count": 38,
   "id": "bb252993-f4e3-43fb-9cd9-40f76137c531",
   "metadata": {},
   "outputs": [],
   "source": [
    "x = [1,2,3,4,5,6,7]"
   ]
  },
  {
   "cell_type": "code",
   "execution_count": 56,
   "id": "4b9dd6bb-1d63-4b3d-ac41-9626add901dd",
   "metadata": {},
   "outputs": [
    {
     "data": {
      "text/plain": [
       "[7, 6, 5, 4, 3, 2, 1]"
      ]
     },
     "execution_count": 56,
     "metadata": {},
     "output_type": "execute_result"
    }
   ],
   "source": [
    "x[::-1]"
   ]
  },
  {
   "cell_type": "code",
   "execution_count": null,
   "id": "22f21409-2174-4424-8839-10115e7598b5",
   "metadata": {},
   "outputs": [],
   "source": []
  }
 ],
 "metadata": {
  "kernelspec": {
   "display_name": "Python 3 (ipykernel)",
   "language": "python",
   "name": "python3"
  },
  "language_info": {
   "codemirror_mode": {
    "name": "ipython",
    "version": 3
   },
   "file_extension": ".py",
   "mimetype": "text/x-python",
   "name": "python",
   "nbconvert_exporter": "python",
   "pygments_lexer": "ipython3",
   "version": "3.9.6"
  }
 },
 "nbformat": 4,
 "nbformat_minor": 5
}
